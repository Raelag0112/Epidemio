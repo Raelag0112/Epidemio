{
 "cells": [
  {
   "cell_type": "code",
   "execution_count": 6,
   "metadata": {},
   "outputs": [],
   "source": [
    "import numpy as np\n",
    "import matplotlib.pyplot as plt"
   ]
  },
  {
   "cell_type": "markdown",
   "metadata": {},
   "source": [
    "# 1. Création du graphe #"
   ]
  },
  {
   "cell_type": "markdown",
   "metadata": {},
   "source": [
    "### 1.1. Liste des arrêtes ###"
   ]
  },
  {
   "cell_type": "code",
   "execution_count": 7,
   "metadata": {},
   "outputs": [],
   "source": [
    "### Paramètres : p est une distribution \"jouet\" pour éviter les éléments nuls dans le calcul de l'entropie croisée\n",
    "\n",
    "N = 10 # nombre d'individus\n",
    "max_fr = 5 # nombre maximum de voisins par individu\n",
    "p = np.array([0.2, 0.3, 0.1, 0.2, 0.2]) # probabilité d'avoir i amis, 0 <= i <= max_fr-1"
   ]
  },
  {
   "cell_type": "code",
   "execution_count": 8,
   "metadata": {},
   "outputs": [
    {
     "name": "stdout",
     "output_type": "stream",
     "text": [
      "[1 1 0 3 1 4 1 4 1 4]\n"
     ]
    }
   ],
   "source": [
    "### Simulation du nombre de voisins par individu\n",
    "\n",
    "verts = np.random.choice(max_fr, N, p=p)\n",
    "print(verts)"
   ]
  },
  {
   "cell_type": "code",
   "execution_count": 9,
   "metadata": {},
   "outputs": [],
   "source": [
    "### Création de la liste des associations\n",
    "# Entrée : nombre de voisins par individu\n",
    "# Sorite : liste des associations sans les boucles et multiples affectations\n",
    "\n",
    "def assoc(ver):\n",
    "    # Création d'une liste intermédiaire où le nombre d'occurrences de l'individu i est son nombre de voisins\n",
    "    neigh = np.array([])\n",
    "    for i in range(len(ver)):\n",
    "        for j in range(ver[i]):\n",
    "            neigh = np.append(neigh, i)\n",
    "    \n",
    "    # Simulation de la liste des associations selon la méthode décrite dans l'article\n",
    "    assoc = np.array([])\n",
    "    while (len(neigh) > 1): # on vide la liste au maximum (reste 1 élément si longueur impaire)\n",
    "        i = np.random.randint(len(neigh)) # on choisit au hasard 2 éléments\n",
    "        a = neigh[i]\n",
    "        neigh = np.delete(neigh, i) # qu'on enlève de la liste\n",
    "        j = np.random.randint(len(neigh)) # on choisit au hasard 2 éléments\n",
    "        b = neigh[j]\n",
    "        neigh = np.delete(neigh, j) # qu'on enlève de la liste\n",
    "        if a != b: # on n'inscrit pas l'association si c'est une boucle directe\n",
    "            assoc = np.append(assoc, np.array([a, b]), axis=0)\n",
    "    \n",
    "    assoc = np.reshape(assoc, (-1, 2))\n",
    "    assoc = np.sort(assoc) # petit tri\n",
    "    assoc = [tuple(row) for row in assoc]\n",
    "    assoc = np.unique(assoc, axis=0) # on vire les multiples\n",
    "    \n",
    "    return(assoc)"
   ]
  },
  {
   "cell_type": "code",
   "execution_count": 10,
   "metadata": {},
   "outputs": [
    {
     "name": "stdout",
     "output_type": "stream",
     "text": [
      "[[0. 9.]\n",
      " [1. 5.]\n",
      " [3. 4.]\n",
      " [3. 7.]\n",
      " [3. 9.]\n",
      " [5. 9.]\n",
      " [6. 8.]\n",
      " [7. 9.]]\n"
     ]
    }
   ],
   "source": [
    "asso = assoc(verts)\n",
    "print(asso)"
   ]
  },
  {
   "cell_type": "code",
   "execution_count": 11,
   "metadata": {},
   "outputs": [],
   "source": [
    "### Création de la liste des voisins\n",
    "# Entrée : associations sans boucle et multiples\n",
    "# Sortie : liste des voisins pour chaque individu\n",
    "\n",
    "def neigh(asso, N=10):\n",
    "    \n",
    "    \n",
    "    neig = []\n",
    "\n",
    "    for i in range(N):\n",
    "        n_i = np.array([])\n",
    "    \n",
    "        for j in range(len(asso)): # on parcourt les duos\n",
    "        \n",
    "            if asso[j][0] == i: # on vérifie si l'individu est dans un duo, si oui on garde son partenaire\n",
    "                n_i = np.append(n_i, asso[j][1])\n",
    "            elif asso[j][1] == i: \n",
    "                n_i = np.append(n_i, asso[j][0])\n",
    "        \n",
    "        n_i = list(n_i)\n",
    "        neig.append(n_i)\n",
    "    return(np.array(neig))"
   ]
  },
  {
   "cell_type": "code",
   "execution_count": 12,
   "metadata": {},
   "outputs": [
    {
     "name": "stdout",
     "output_type": "stream",
     "text": [
      "[list([9.0]) list([5.0]) list([]) list([4.0, 7.0, 9.0]) list([3.0])\n",
      " list([1.0, 9.0]) list([8.0]) list([3.0, 9.0]) list([6.0])\n",
      " list([0.0, 3.0, 5.0, 7.0])]\n"
     ]
    }
   ],
   "source": [
    "neighs = neigh(asso)\n",
    "print(neighs)"
   ]
  },
  {
   "cell_type": "markdown",
   "metadata": {},
   "source": [
    "### 1.2. Comparaison des probabilités ###"
   ]
  },
  {
   "cell_type": "code",
   "execution_count": 13,
   "metadata": {},
   "outputs": [],
   "source": [
    "### Calcul du nombre de voisins effectif après associations\n",
    "\n",
    "def N_vois(asso):\n",
    "    N_vois = np.array([])\n",
    "    for i in range(N):\n",
    "        N_vois = np.append(N_vois, (asso == i).sum())\n",
    "    return(N_vois)"
   ]
  },
  {
   "cell_type": "code",
   "execution_count": 14,
   "metadata": {},
   "outputs": [
    {
     "name": "stdout",
     "output_type": "stream",
     "text": [
      "[1. 1. 0. 3. 1. 2. 1. 2. 1. 4.]\n"
     ]
    }
   ],
   "source": [
    "neig = N_vois(asso)\n",
    "print(neig)"
   ]
  },
  {
   "cell_type": "code",
   "execution_count": 15,
   "metadata": {},
   "outputs": [],
   "source": [
    "### Calcul de la probabilité empirique de la distibution des voisins\n",
    "\n",
    "def empirical_prob(nb_nei):\n",
    "    q = np.array([])\n",
    "    for i in range(len(p)):\n",
    "        q = np.append(q, (nb_nei == i).sum() / len(nb_nei))\n",
    "    return(q)"
   ]
  },
  {
   "cell_type": "code",
   "execution_count": 16,
   "metadata": {},
   "outputs": [
    {
     "name": "stdout",
     "output_type": "stream",
     "text": [
      "[0.1 0.5 0.2 0.1 0.1]\n"
     ]
    }
   ],
   "source": [
    "emp = empirical_prob(neig)\n",
    "print(emp)"
   ]
  },
  {
   "cell_type": "code",
   "execution_count": 17,
   "metadata": {},
   "outputs": [],
   "source": [
    "### Entropie croisée\n",
    "\n",
    "def cross_entropy(p, q):\n",
    "    assert len(p) == len(q)\n",
    "    ce = 0\n",
    "    for i in range(len(p)):\n",
    "        ce -= p[i] * np.log(q[i])\n",
    "    return(ce)"
   ]
  },
  {
   "cell_type": "code",
   "execution_count": 18,
   "metadata": {},
   "outputs": [
    {
     "data": {
      "text/plain": [
       "1.5571130980576458"
      ]
     },
     "execution_count": 18,
     "metadata": {},
     "output_type": "execute_result"
    }
   ],
   "source": [
    "cross_entropy(p, p)"
   ]
  },
  {
   "cell_type": "code",
   "execution_count": 19,
   "metadata": {},
   "outputs": [
    {
     "data": {
      "text/plain": [
       "1.750439001207821"
      ]
     },
     "execution_count": 19,
     "metadata": {},
     "output_type": "execute_result"
    }
   ],
   "source": [
    "cross_entropy(p, emp)"
   ]
  },
  {
   "cell_type": "code",
   "execution_count": 20,
   "metadata": {},
   "outputs": [
    {
     "data": {
      "image/png": "[encoded data removed]",
      "text/plain": [
       "<Figure size 432x288 with 1 Axes>"
      ]
     },
     "metadata": {
      "needs_background": "light"
     },
     "output_type": "display_data"
    }
   ],
   "source": [
    "### Entropie croisée entre probabilités théorique et empirique en fonction de la taille de la population minus l'entropie croisée minimale\n",
    "\n",
    "Ns = np.arange(1000, 20000, 500)\n",
    "CEs = np.array([])\n",
    "for N in Ns:\n",
    "    verts = np.random.choice(max_fr, N, p=p)\n",
    "    asso = assoc(verts)\n",
    "    neig = N_vois(asso)\n",
    "    emp = empirical_prob(neig)\n",
    "    CEs = np.append(CEs, cross_entropy(p, emp) - cross_entropy(p, p)) # différence entre entropie croisée et entropie croisée minimale\n",
    "\n",
    "plt.plot(Ns, CEs)\n",
    "plt.title(\"Entropie croisée réduite = f(nombre d'individus)\")\n",
    "plt.show()"
   ]
  },
  {
   "cell_type": "markdown",
   "metadata": {},
   "source": [
    "### 1.3. Poisson et heavy-tail ###"
   ]
  },
  {
   "cell_type": "code",
   "execution_count": 21,
   "metadata": {},
   "outputs": [],
   "source": [
    "### Distribution des voisins selon la loi de Poisson\n",
    "\n",
    "def vertsPoiss(N):\n",
    "    vertsP = np.random.poisson(4, N)\n",
    "    return(vertsP)"
   ]
  },
  {
   "cell_type": "code",
   "execution_count": 22,
   "metadata": {},
   "outputs": [
    {
     "name": "stdout",
     "output_type": "stream",
     "text": [
      "[0 5 4 5 3 2 3 5 2 1]\n"
     ]
    }
   ],
   "source": [
    "print(vertsPoiss(10))"
   ]
  },
  {
   "cell_type": "code",
   "execution_count": 23,
   "metadata": {},
   "outputs": [],
   "source": [
    "### Distribution des voisins selon la loi heavy-tail \n",
    "\n",
    "def vertsHT(N):\n",
    "\n",
    "    probaHT1 = np.array([])\n",
    "    for i in range(N):  # il ne peut y avoir plus de voisins que d'individus\n",
    "        probaHT1 = np.append(probaHT1, (i + 1)**-2.5)\n",
    "        probaHT1 /= probaHT1.sum()\n",
    "\n",
    "    a = np.random.choice(N, N, p=probaHT1)\n",
    "    b = np.random.poisson(3.1, N)\n",
    "    vertsHT = a + b\n",
    "    return(vertsHT)"
   ]
  },
  {
   "cell_type": "code",
   "execution_count": 24,
   "metadata": {},
   "outputs": [
    {
     "name": "stdout",
     "output_type": "stream",
     "text": [
      "[2 1 3 2 3 5 1 4 5 5]\n"
     ]
    }
   ],
   "source": [
    "print(vertsHT(10))"
   ]
  },
  {
   "cell_type": "markdown",
   "metadata": {},
   "source": [
    "# 2. Modèles d'épidémie #"
   ]
  },
  {
   "cell_type": "markdown",
   "metadata": {},
   "source": [
    "### 2.1. Sans vaccination ###"
   ]
  },
  {
   "cell_type": "code",
   "execution_count": 25,
   "metadata": {},
   "outputs": [],
   "source": [
    "### Modèle d'épidémie sur graphe sans vaccin\n",
    "def epi_novac(N, asso, lbd=1, gmm=1):\n",
    "    \n",
    "    neig = neigh(asso, N=N)\n",
    "    \n",
    "    ### 0 <-> sain, 1 <-> infecté, 2 <-> rémis\n",
    "    infected = np.zeros(N)\n",
    "    first_infected = np.random.randint(N) # premier infecté aléatoirement\n",
    "    infected[first_infected] = 1\n",
    "\n",
    "    T = 0\n",
    "\n",
    "    while (infected == 1).sum() > 0:\n",
    "\n",
    "\n",
    "        # pour chaque individu on calcule tous les temps intéressants\n",
    "        Ts = np.array([])\n",
    "        for i in range(len(infected)):\n",
    "\n",
    "            # s'il est infecté : calcul du temps de rémission et des temps d'infection\n",
    "            if infected[i] == 1:\n",
    "\n",
    "                Trem = np.random.exponential(1/gmm) # temps de rémission\n",
    "                Ts = np.append(Ts, np.array([Trem, i]))\n",
    "\n",
    "                for nei in neig[i]: \n",
    "                    if infected[int(nei)] == 0:\n",
    "                        Tinf = np.random.exponential(1/lbd) # temps d'infection pour chaque voisin\n",
    "                        Ts = np.append(Ts, np.array([Tinf, nei]))\n",
    "\n",
    "        times = Ts[::2]\n",
    "        pos = Ts[1::2]\n",
    "\n",
    "        \n",
    "        Tau, pTau = np.amin(times), np.argmin(times) # on garde le temps minimum\n",
    "\n",
    "        chosen = int(pos[pTau]) # on change le statut de l'individu associé \n",
    "        if infected[chosen] == 0:\n",
    "            infected[chosen] = 1\n",
    "        elif infected[chosen] == 1:\n",
    "            infected[chosen] = 2\n",
    "\n",
    "        T += Tau\n",
    "\n",
    "    return(infected)"
   ]
  },
  {
   "cell_type": "code",
   "execution_count": 38,
   "metadata": {},
   "outputs": [
    {
     "name": "stdout",
     "output_type": "stream",
     "text": [
      "Etat final :  [2. 2. 2. 2. 2. 2. 2. 0. 2. 2. 2. 2. 0. 2. 0. 2. 2. 2. 0. 2. 2. 2. 0. 2.\n",
      " 0. 2. 2. 2. 2. 2. 2. 2. 2. 2. 0. 0. 2. 2. 2. 2. 2. 0. 2. 2. 2. 2. 2. 2.\n",
      " 2. 2. 2. 2. 2. 2. 2. 2. 2. 2. 2. 2. 0. 0. 0. 2. 0. 2. 2. 0. 2. 2. 2. 0.\n",
      " 0. 2. 2. 2. 2. 2. 2. 2. 0. 2. 2. 2. 2. 0. 2. 2. 2. 2. 2. 2. 2. 2. 2. 2.\n",
      " 2. 2. 2. 2.]\n",
      "Nombre d'infectés :  82\n"
     ]
    }
   ],
   "source": [
    "N = 100\n",
    "\n",
    "verts = vertsPoiss(N)  \n",
    "# verts = vertsHT(N)\n",
    "asso = assoc(verts)\n",
    "\n",
    "infected = epi_novac(N, asso)\n",
    "\n",
    "print(\"Etat final : \", infected)\n",
    "print(\"Nombre d'infectés : \", (infected == 2).sum())"
   ]
  },
  {
   "cell_type": "markdown",
   "metadata": {},
   "source": [
    "### 2.2. Vaccination : modèle 1 ###"
   ]
  },
  {
   "cell_type": "code",
   "execution_count": 39,
   "metadata": {},
   "outputs": [],
   "source": [
    "def epi_vac1(N, asso, lbd=1, gmm=1, theta=5, rho=0.9):\n",
    "\n",
    "    neig = neigh(asso, N=N)\n",
    "\n",
    "    infected = np.zeros(N)\n",
    "    first_infected = np.random.randint(N)\n",
    "    infected[first_infected] = 1\n",
    "\n",
    "    T = 0\n",
    "    while (infected == 1).sum() > 0:\n",
    "\n",
    "        # pour chaque individu on calcule tous les temps intéressants\n",
    "        Ts = np.array([])\n",
    "\n",
    "        for i in range(len(infected)):\n",
    "\n",
    "            # s'il est infecté : calcul du temps de rémission, de détection et d'infection\n",
    "            if infected[i] == 1:\n",
    "                Trem = np.random.exponential(1/gmm)\n",
    "                Ts = np.append(Ts, np.array([Trem, i]))\n",
    "\n",
    "                Tdet = np.random.exponential(1/theta)\n",
    "                Ts = np.append(Ts, np.array([Tdet, i-N]))\n",
    "\n",
    "                for nei in neig[i]:\n",
    "                    if infected[int(nei)] == 0:\n",
    "                        Tinf = np.random.exponential(1/lbd)\n",
    "                        Ts = np.append(Ts, np.array([Tinf, nei]))\n",
    "\n",
    "        times = Ts[::2]\n",
    "        pos = Ts[1::2]\n",
    "\n",
    "        Tau, pTau = np.amin(times), np.argmin(times)\n",
    "\n",
    "        T += Tau\n",
    "\n",
    "        chosen = int(pos[pTau])\n",
    "        if chosen < 0:\n",
    "            chosen += N\n",
    "            for nei in neig[chosen]:\n",
    "                if np.random.uniform(0, 1) < rho and infected[int(nei)] == 0:\n",
    "                    infected[int(nei)] = 3\n",
    "\n",
    "        else:                           \n",
    "            if infected[chosen] == 0:\n",
    "                infected[chosen] = 1           \n",
    "            elif infected[chosen] == 1:\n",
    "                infected[chosen] = 2\n",
    "    \n",
    "    return(infected)"
   ]
  },
  {
   "cell_type": "code",
   "execution_count": 40,
   "metadata": {},
   "outputs": [
    {
     "name": "stdout",
     "output_type": "stream",
     "text": [
      "Etat final :  [0. 0. 0. 0. 0. 0. 0. 0. 0. 0. 0. 0. 0. 0. 0. 0. 0. 0. 0. 0. 0. 0. 0. 0.\n",
      " 0. 0. 0. 0. 0. 0. 0. 0. 0. 0. 0. 0. 0. 0. 0. 0. 0. 3. 0. 0. 0. 0. 0. 2.\n",
      " 0. 0. 0. 0. 0. 0. 0. 0. 0. 0. 0. 0. 0. 0. 0. 0. 0. 0. 0. 0. 0. 3. 0. 0.\n",
      " 0. 0. 0. 0. 0. 0. 0. 0. 0. 0. 0. 0. 0. 0. 0. 0. 0. 0. 0. 0. 0. 0. 3. 0.\n",
      " 0. 0. 0. 0.]\n",
      "Nombre d'infectés :  1\n"
     ]
    }
   ],
   "source": [
    "N = 100\n",
    "verts = vertsPoiss(N)\n",
    "# verts = vertsHT(N)\n",
    "asso = assoc(verts)\n",
    "\n",
    "infected = epi_vac1(N, asso)\n",
    "\n",
    "print(\"Etat final : \", infected)\n",
    "print(\"Nombre d'infectés : \", (infected == 2).sum())"
   ]
  },
  {
   "cell_type": "markdown",
   "metadata": {},
   "source": [
    "### 2.3. Vaccination : modèle 2"
   ]
  },
  {
   "cell_type": "code",
   "execution_count": 124,
   "metadata": {},
   "outputs": [],
   "source": [
    "############### TO DO ########################\n",
    "\n",
    "\n",
    "def epi_vac2(N, asso, lbd=1, gmm=1, theta=5, m=5):\n",
    "\n",
    "    neig = neigh(asso, N=N)\n",
    "\n",
    "    infected = np.zeros(N)\n",
    "    first_infected = np.random.randint(N)\n",
    "    infected[first_infected] = 1\n",
    "    \n",
    "    n_infec = np.zeros(N)\n",
    "    \n",
    "    T = 0\n",
    "    while (infected == 1).sum() > 0:\n",
    "        \n",
    "        assoc_infec = np.array([])\n",
    "        \n",
    "        # pour chaque individu on calcule tous les temps intéressants\n",
    "        Ts = np.array([])\n",
    "\n",
    "        for i in range(len(infected)):\n",
    "            \n",
    "            # s'il est infecté : calcul du temps de rémission, de détection et d'infection\n",
    "            if infected[i] == 1:\n",
    "                Trem = np.random.exponential(1/gmm)\n",
    "                Ts = np.append(Ts, np.array([Trem, i]))\n",
    "                \n",
    "                assoc_infec = np.append(assoc_infec, [i, i])\n",
    "\n",
    "                Tdet = np.random.exponential(1/theta)\n",
    "                Ts = np.append(Ts, np.array([Tdet, i-N]))\n",
    "                \n",
    "                assoc_infec = np.append(assoc_infec, [i, i])\n",
    "                \n",
    "                for nei in neig[i]:\n",
    "                    if infected[int(nei)] == 0:\n",
    "                        Tinf = np.random.exponential(1/lbd)\n",
    "                        Ts = np.append(Ts, np.array([Tinf, nei]))\n",
    "                        assoc_infec = np.append(assoc_infec, np.array([i, nei]))\n",
    "        \n",
    "        \n",
    "        times = Ts[::2]\n",
    "        pos = Ts[1::2]\n",
    "\n",
    "        Tau, pTau = np.amin(times), np.argmin(times)\n",
    "\n",
    "        T += Tau\n",
    "        \n",
    "        chosen = int(pos[pTau])\n",
    "        if chosen < 0:\n",
    "            chosen += N\n",
    "            for nei in neig[chosen]:\n",
    "                if infected[int(nei)] == 0:\n",
    "                    infected[int(nei)] = 3\n",
    "        \n",
    "        else:                           \n",
    "            if infected[chosen] == 0:\n",
    "                infected[chosen] = 1\n",
    "                origin = assoc_infec[2*pTau]\n",
    "                n_infec[int(origin)] += 1\n",
    "                                       \n",
    "            elif infected[chosen] == 1:\n",
    "                infected[chosen] = 2\n",
    "        \n",
    "        for i in range(len(n_infec)):\n",
    "            if n_infec[i] >= 5:\n",
    "                for nei in neig[chosen]:\n",
    "                    if infected[int(nei)] == 0:\n",
    "                        infected[int(nei)] =3\n",
    "    \n",
    "    return(infected)"
   ]
  },
  {
   "cell_type": "code",
   "execution_count": 128,
   "metadata": {},
   "outputs": [
    {
     "name": "stdout",
     "output_type": "stream",
     "text": [
      "Etat final :  [0. 0. 0. 0. 0. 0. 0. 0. 0. 0. 0. 0. 0. 0. 0. 0. 0. 0. 0. 0. 0. 0. 0. 0.\n",
      " 0. 3. 0. 0. 3. 0. 0. 0. 0. 3. 0. 0. 0. 0. 0. 0. 0. 0. 0. 0. 0. 0. 0. 0.\n",
      " 0. 0. 0. 0. 0. 2. 0. 0. 0. 0. 0. 0. 0. 0. 0. 0. 0. 0. 0. 3. 0. 0. 0. 0.\n",
      " 0. 3. 0. 0. 0. 0. 3. 0. 0. 0. 0. 0. 0. 0. 0. 0. 0. 0. 0. 0. 0. 0. 0. 0.\n",
      " 0. 0. 0. 0.]\n",
      "Nombre d'infectés :  1\n"
     ]
    }
   ],
   "source": [
    "N = 100\n",
    "verts = vertsPoiss(N)\n",
    "# verts = vertsHT(N)\n",
    "asso = assoc(verts)\n",
    "\n",
    "infected = epi_vac2(N, asso)\n",
    "\n",
    "print(\"Etat final : \", infected)\n",
    "print(\"Nombre d'infectés : \", (infected == 2).sum())"
   ]
  },
  {
   "cell_type": "markdown",
   "metadata": {},
   "source": [
    "# 3. Résultats #"
   ]
  },
  {
   "cell_type": "markdown",
   "metadata": {},
   "source": [
    "### 3.1. Reproduction des résultats de l'article ###"
   ]
  },
  {
   "cell_type": "code",
   "execution_count": 130,
   "metadata": {},
   "outputs": [],
   "source": [
    "N = 1000\n",
    "vertsHeavyTail = vertsHT(N)\n",
    "vertsPoisson = vertsPoiss(N)\n",
    "assoHT = assoc(vertsHeavyTail)\n",
    "assoPoiss = assoc(vertsPoisson)"
   ]
  },
  {
   "cell_type": "markdown",
   "metadata": {},
   "source": [
    "#### 3.1.1. Sans vaccination ####"
   ]
  },
  {
   "cell_type": "code",
   "execution_count": 100,
   "metadata": {},
   "outputs": [
    {
     "name": "stdout",
     "output_type": "stream",
     "text": [
      "0\n",
      "1\n",
      "2\n",
      "3\n",
      "4\n"
     ]
    },
    {
     "data": {
      "text/plain": [
       "(array([3., 0., 0., 0., 0., 0., 0., 0., 0., 2.]),\n",
       " array([  1. ,  80.8, 160.6, 240.4, 320.2, 400. , 479.8, 559.6, 639.4,\n",
       "        719.2, 799. ]),\n",
       " <a list of 10 Patch objects>)"
      ]
     },
     "execution_count": 100,
     "metadata": {},
     "output_type": "execute_result"
    },
    {
     "data": {
      "image/png": "[encoded data removed]",
      "text/plain": [
       "<Figure size 432x288 with 1 Axes>"
      ]
     },
     "metadata": {
      "needs_background": "light"
     },
     "output_type": "display_data"
    }
   ],
   "source": [
    "######################### PEUT METTRE DU TEMPS A TOURNER ############################\n",
    "\n",
    "n_sim = 5\n",
    "sizes = np.array([])\n",
    "\n",
    "for i in range(n_sim):\n",
    "    \n",
    "    print(i)\n",
    "    \n",
    "    infected = epi_novac(N, assoHT)\n",
    "    sizes = np.append(sizes, (infected == 2).sum())\n",
    "\n",
    "plt.hist(sizes)"
   ]
  },
  {
   "cell_type": "markdown",
   "metadata": {},
   "source": [
    "#### 3.1.2. Vaccination 1 ####"
   ]
  },
  {
   "cell_type": "code",
   "execution_count": 150,
   "metadata": {},
   "outputs": [
    {
     "name": "stdout",
     "output_type": "stream",
     "text": [
      "0\n",
      "1\n",
      "2\n",
      "3\n",
      "4\n"
     ]
    },
    {
     "data": {
      "text/plain": [
       "(array([3., 0., 0., 0., 1., 0., 0., 0., 0., 1.]),\n",
       " array([ 1. ,  4.4,  7.8, 11.2, 14.6, 18. , 21.4, 24.8, 28.2, 31.6, 35. ]),\n",
       " <a list of 10 Patch objects>)"
      ]
     },
     "execution_count": 150,
     "metadata": {},
     "output_type": "execute_result"
    },
    {
     "data": {
      "image/png": "[encoded data removed]",
      "text/plain": [
       "<Figure size 432x288 with 1 Axes>"
      ]
     },
     "metadata": {
      "needs_background": "light"
     },
     "output_type": "display_data"
    }
   ],
   "source": [
    "n_sim = 5\n",
    "sizes = np.array([])\n",
    "\n",
    "for i in range(n_sim):\n",
    "    \n",
    "    print(i)\n",
    "    \n",
    "    infected = epi_vac1(N, assoHT)\n",
    "    sizes = np.append(sizes, (infected == 2).sum())\n",
    "\n",
    "plt.hist(sizes)"
   ]
  },
  {
   "cell_type": "markdown",
   "metadata": {},
   "source": [
    "#### 3.1.3. Vaccination 2 ####"
   ]
  },
  {
   "cell_type": "code",
   "execution_count": 131,
   "metadata": {},
   "outputs": [
    {
     "name": "stdout",
     "output_type": "stream",
     "text": [
      "0\n",
      "1\n",
      "2\n",
      "3\n",
      "4\n"
     ]
    },
    {
     "data": {
      "text/plain": [
       "(array([1., 0., 0., 0., 0., 1., 0., 0., 0., 3.]),\n",
       " array([1. , 1.2, 1.4, 1.6, 1.8, 2. , 2.2, 2.4, 2.6, 2.8, 3. ]),\n",
       " <a list of 10 Patch objects>)"
      ]
     },
     "execution_count": 131,
     "metadata": {},
     "output_type": "execute_result"
    },
    {
     "data": {
      "image/png": "[encoded data removed]",
      "text/plain": [
       "<Figure size 432x288 with 1 Axes>"
      ]
     },
     "metadata": {
      "needs_background": "light"
     },
     "output_type": "display_data"
    }
   ],
   "source": [
    "n_sim = 5\n",
    "sizes = np.array([])\n",
    "\n",
    "for i in range(n_sim):\n",
    "    \n",
    "    print(i)\n",
    "    \n",
    "    infected = epi_vac2(N, assoHT)\n",
    "    sizes = np.append(sizes, (infected == 2).sum())\n",
    "\n",
    "plt.hist(sizes)"
   ]
  }
 ],
 "metadata": {
  "kernelspec": {
   "display_name": "Python 3",
   "language": "python",
   "name": "python3"
  },
  "language_info": {
   "codemirror_mode": {
    "name": "ipython",
    "version": 3
   },
   "file_extension": ".py",
   "mimetype": "text/x-python",
   "name": "python",
   "nbconvert_exporter": "python",
   "pygments_lexer": "ipython3",
   "version": "3.7.7"
  }
 },
 "nbformat": 4,
 "nbformat_minor": 4
}
