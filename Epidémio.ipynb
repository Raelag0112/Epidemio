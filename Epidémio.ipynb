{
 "cells": [
  {
   "cell_type": "code",
   "execution_count": 2,
   "metadata": {},
   "outputs": [],
   "source": [
    "import numpy as np\n",
    "import matplotlib.pyplot as plt"
   ]
  },
  {
   "cell_type": "markdown",
   "metadata": {},
   "source": [
    "# 1. Création du graphe #"
   ]
  },
  {
   "cell_type": "markdown",
   "metadata": {},
   "source": [
    "### 1.1. Liste des arrêtes ###"
   ]
  },
  {
   "cell_type": "code",
   "execution_count": 3,
   "metadata": {},
   "outputs": [],
   "source": [
    "### Paramètres : p est une distribution \"jouet\" pour éviter les éléments nuls dans le calcul de l'entropie croisée\n",
    "\n",
    "N = 10 # nombre d'individus\n",
    "max_fr = 5 # nombre maximum de voisins par individu\n",
    "p = np.array([0.2, 0.3, 0.1, 0.2, 0.2]) # probabilité d'avoir i amis, 0 <= i <= max_fr-1"
   ]
  },
  {
   "cell_type": "code",
   "execution_count": 4,
   "metadata": {},
   "outputs": [
    {
     "name": "stdout",
     "output_type": "stream",
     "text": [
      "[4 1 1 3 3 0 0 1 0 3]\n"
     ]
    }
   ],
   "source": [
    "### Simulation du nombre de voisins par individu\n",
    "\n",
    "verts = np.random.choice(max_fr, N, p=p)\n",
    "print(verts)"
   ]
  },
  {
   "cell_type": "code",
   "execution_count": 5,
   "metadata": {},
   "outputs": [],
   "source": [
    "### Création de la liste des associations\n",
    "# Entrée : nombre de voisins par individu\n",
    "# Sorite : liste des associations sans les boucles et multiples affectations\n",
    "\n",
    "def assoc(ver):\n",
    "    # Création d'une liste intermédiaire où le nombre d'occurrences de l'individu i est son nombre de voisins\n",
    "    neigh = np.array([])\n",
    "    for i in range(len(ver)):\n",
    "        for j in range(ver[i]):\n",
    "            neigh = np.append(neigh, i)\n",
    "    \n",
    "    # Simulation de la liste des associations selon la méthode décrite dans l'article\n",
    "    assoc = np.array([])\n",
    "    while (len(neigh) > 1): # on vide la liste au maximum (reste 1 élément si longueur impaire)\n",
    "        i = np.random.randint(len(neigh)) # on choisit au hasard 2 éléments\n",
    "        a = neigh[i]\n",
    "        neigh = np.delete(neigh, i) # qu'on enlève de la liste\n",
    "        j = np.random.randint(len(neigh)) # on choisit au hasard 2 éléments\n",
    "        b = neigh[j]\n",
    "        neigh = np.delete(neigh, j) # qu'on enlève de la liste\n",
    "        if a != b: # on n'inscrit pas l'association si c'est une boucle directe\n",
    "            assoc = np.append(assoc, np.array([a, b]), axis=0)\n",
    "    \n",
    "    assoc = np.reshape(assoc, (-1, 2))\n",
    "    assoc = np.sort(assoc) # petit tri\n",
    "    assoc = [tuple(row) for row in assoc]\n",
    "    assoc = np.unique(assoc, axis=0) # on vire les multiples\n",
    "    \n",
    "    return(assoc)"
   ]
  },
  {
   "cell_type": "code",
   "execution_count": 6,
   "metadata": {},
   "outputs": [
    {
     "name": "stdout",
     "output_type": "stream",
     "text": [
      "[[0. 1.]\n",
      " [0. 4.]\n",
      " [2. 9.]\n",
      " [3. 9.]\n",
      " [4. 7.]\n",
      " [4. 9.]]\n"
     ]
    }
   ],
   "source": [
    "asso = assoc(verts)\n",
    "print(asso)"
   ]
  },
  {
   "cell_type": "code",
   "execution_count": 7,
   "metadata": {},
   "outputs": [],
   "source": [
    "### Création de la liste des voisins\n",
    "# Entrée : associations sans boucle et multiples\n",
    "# Sortie : liste des voisins pour chaque individu\n",
    "\n",
    "def neigh(asso, N=10):\n",
    "    \n",
    "    \n",
    "    neig = []\n",
    "\n",
    "    for i in range(N):\n",
    "        n_i = np.array([])\n",
    "    \n",
    "        for j in range(len(asso)): # on parcourt les duos\n",
    "        \n",
    "            if asso[j][0] == i: # on vérifie si l'individu est dans un duo, si oui on garde son partenaire\n",
    "                n_i = np.append(n_i, asso[j][1])\n",
    "            elif asso[j][1] == i: \n",
    "                n_i = np.append(n_i, asso[j][0])\n",
    "        \n",
    "        n_i = list(n_i)\n",
    "        neig.append(n_i)\n",
    "    return(np.array(neig))"
   ]
  },
  {
   "cell_type": "code",
   "execution_count": 8,
   "metadata": {},
   "outputs": [
    {
     "name": "stdout",
     "output_type": "stream",
     "text": [
      "[list([1.0, 4.0]) list([0.0]) list([9.0]) list([9.0])\n",
      " list([0.0, 7.0, 9.0]) list([]) list([]) list([4.0]) list([])\n",
      " list([2.0, 3.0, 4.0])]\n"
     ]
    }
   ],
   "source": [
    "neighs = neigh(asso)\n",
    "print(neighs)"
   ]
  },
  {
   "cell_type": "markdown",
   "metadata": {},
   "source": [
    "### 1.2. Comparaison des probabilités ###"
   ]
  },
  {
   "cell_type": "code",
   "execution_count": 9,
   "metadata": {},
   "outputs": [],
   "source": [
    "### Calcul du nombre de voisins effectif après associations\n",
    "\n",
    "def N_vois(asso):\n",
    "    N_vois = np.array([])\n",
    "    for i in range(N):\n",
    "        N_vois = np.append(N_vois, (asso == i).sum())\n",
    "    return(N_vois)"
   ]
  },
  {
   "cell_type": "code",
   "execution_count": 10,
   "metadata": {},
   "outputs": [
    {
     "name": "stdout",
     "output_type": "stream",
     "text": [
      "[2. 1. 1. 1. 3. 0. 0. 1. 0. 3.]\n"
     ]
    }
   ],
   "source": [
    "neig = N_vois(asso)\n",
    "print(neig)"
   ]
  },
  {
   "cell_type": "code",
   "execution_count": 11,
   "metadata": {},
   "outputs": [],
   "source": [
    "### Calcul de la probabilité empirique de la distibution des voisins\n",
    "\n",
    "def empirical_prob(nb_nei):\n",
    "    q = np.array([])\n",
    "    for i in range(len(p)):\n",
    "        q = np.append(q, (nb_nei == i).sum() / len(nb_nei))\n",
    "    return(q)"
   ]
  },
  {
   "cell_type": "code",
   "execution_count": 12,
   "metadata": {},
   "outputs": [
    {
     "name": "stdout",
     "output_type": "stream",
     "text": [
      "[0.3 0.4 0.1 0.2 0. ]\n"
     ]
    }
   ],
   "source": [
    "emp = empirical_prob(neig)\n",
    "print(emp)"
   ]
  },
  {
   "cell_type": "code",
   "execution_count": 13,
   "metadata": {},
   "outputs": [],
   "source": [
    "### Entropie croisée\n",
    "\n",
    "def cross_entropy(p, q):\n",
    "    assert len(p) == len(q)\n",
    "    ce = 0\n",
    "    for i in range(len(p)):\n",
    "        ce -= p[i] * np.log(q[i])\n",
    "    return(ce)"
   ]
  },
  {
   "cell_type": "code",
   "execution_count": 14,
   "metadata": {},
   "outputs": [
    {
     "data": {
      "text/plain": [
       "1.5571130980576458"
      ]
     },
     "execution_count": 14,
     "metadata": {},
     "output_type": "execute_result"
    }
   ],
   "source": [
    "cross_entropy(p, p)"
   ]
  },
  {
   "cell_type": "code",
   "execution_count": 15,
   "metadata": {},
   "outputs": [
    {
     "name": "stderr",
     "output_type": "stream",
     "text": [
      "D:\\Anaconda\\lib\\site-packages\\ipykernel_launcher.py:7: RuntimeWarning: divide by zero encountered in log\n",
      "  import sys\n"
     ]
    },
    {
     "data": {
      "text/plain": [
       "inf"
      ]
     },
     "execution_count": 15,
     "metadata": {},
     "output_type": "execute_result"
    }
   ],
   "source": [
    "cross_entropy(p, emp)"
   ]
  },
  {
   "cell_type": "code",
   "execution_count": 16,
   "metadata": {},
   "outputs": [
    {
     "data": {
      "image/png": "[encoded data removed]",
      "text/plain": [
       "<Figure size 432x288 with 1 Axes>"
      ]
     },
     "metadata": {
      "needs_background": "light"
     },
     "output_type": "display_data"
    }
   ],
   "source": [
    "### Entropie croisée entre probabilités théorique et empirique en fonction de la taille de la population minus l'entropie croisée minimale\n",
    "\n",
    "Ns = np.arange(1000, 20000, 500)\n",
    "CEs = np.array([])\n",
    "for N in Ns:\n",
    "    verts = np.random.choice(max_fr, N, p=p)\n",
    "    asso = assoc(verts)\n",
    "    neig = N_vois(asso)\n",
    "    emp = empirical_prob(neig)\n",
    "    CEs = np.append(CEs, cross_entropy(p, emp) - cross_entropy(p, p)) # différence entre entropie croisée et entropie croisée minimale\n",
    "\n",
    "plt.plot(Ns, CEs)\n",
    "plt.title(\"Entropie croisée réduite = f(nombre d'individus)\")\n",
    "plt.show()"
   ]
  },
  {
   "cell_type": "markdown",
   "metadata": {},
   "source": [
    "### 1.3. Poisson et heavy-tail ###"
   ]
  },
  {
   "cell_type": "code",
   "execution_count": 17,
   "metadata": {},
   "outputs": [],
   "source": [
    "### Distribution des voisins selon la loi de Poisson\n",
    "\n",
    "def vertsPoiss(N):\n",
    "    vertsP = np.random.poisson(4, N)\n",
    "    return(vertsP)"
   ]
  },
  {
   "cell_type": "code",
   "execution_count": 18,
   "metadata": {},
   "outputs": [
    {
     "name": "stdout",
     "output_type": "stream",
     "text": [
      "[2 4 4 3 6 7 4 4 9 2]\n"
     ]
    }
   ],
   "source": [
    "print(vertsPoiss(10))"
   ]
  },
  {
   "cell_type": "code",
   "execution_count": 19,
   "metadata": {},
   "outputs": [],
   "source": [
    "### Distribution des voisins selon la loi heavy-tail \n",
    "\n",
    "def vertsHT(N):\n",
    "\n",
    "    probaHT1 = np.array([])\n",
    "    for i in range(N):  # il ne peut y avoir plus de voisins que d'individus\n",
    "        probaHT1 = np.append(probaHT1, (i + 1)**-2.5)\n",
    "        probaHT1 /= probaHT1.sum()\n",
    "\n",
    "    a = np.random.choice(N, N, p=probaHT1)\n",
    "    b = np.random.poisson(3.1, N)\n",
    "    vertsHT = a + b\n",
    "    return(vertsHT)"
   ]
  },
  {
   "cell_type": "code",
   "execution_count": 20,
   "metadata": {},
   "outputs": [
    {
     "name": "stdout",
     "output_type": "stream",
     "text": [
      "[ 1  3  1  0  2  5  5  0 11  2]\n"
     ]
    }
   ],
   "source": [
    "print(vertsHT(10))"
   ]
  },
  {
   "cell_type": "markdown",
   "metadata": {},
   "source": [
    "# 2. Modèles d'épidémie #"
   ]
  },
  {
   "cell_type": "markdown",
   "metadata": {},
   "source": [
    "### 2.1. Sans vaccination ###"
   ]
  },
  {
   "cell_type": "code",
   "execution_count": 21,
   "metadata": {},
   "outputs": [],
   "source": [
    "### Modèle d'épidémie sur graphe sans vaccin\n",
    "def epi_novac(N, asso, lbd=1, gmm=1):\n",
    "    \n",
    "    neig = neigh(asso, N=N)\n",
    "    \n",
    "    ### 0 <-> sain, 1 <-> infecté, 2 <-> rémis\n",
    "    infected = np.zeros(N)\n",
    "    first_infected = np.random.randint(N) # premier infecté aléatoirement\n",
    "    infected[first_infected] = 1\n",
    "\n",
    "    T = 0\n",
    "\n",
    "    while (infected == 1).sum() > 0:\n",
    "\n",
    "\n",
    "        # pour chaque individu on calcule tous les temps intéressants\n",
    "        Ts = np.array([])\n",
    "        for i in range(len(infected)):\n",
    "\n",
    "            # s'il est infecté : calcul du temps de rémission et des temps d'infection\n",
    "            if infected[i] == 1:\n",
    "\n",
    "                Trem = np.random.exponential(1/gmm) # temps de rémission\n",
    "                Ts = np.append(Ts, np.array([Trem, i]))\n",
    "\n",
    "                for nei in neig[i]: \n",
    "                    if infected[int(nei)] == 0:\n",
    "                        Tinf = np.random.exponential(1/lbd) # temps d'infection pour chaque voisin\n",
    "                        Ts = np.append(Ts, np.array([Tinf, nei]))\n",
    "\n",
    "        times = Ts[::2]\n",
    "        pos = Ts[1::2]\n",
    "\n",
    "        \n",
    "        Tau, pTau = np.amin(times), np.argmin(times) # on garde le temps minimum\n",
    "\n",
    "        chosen = int(pos[pTau]) # on change le statut de l'individu associé \n",
    "        if infected[chosen] == 0:\n",
    "            infected[chosen] = 1 # cas d'infection\n",
    "        elif infected[chosen] == 1:\n",
    "            infected[chosen] = 2 # cas de rémission\n",
    "\n",
    "        T += Tau\n",
    "\n",
    "    return(infected)"
   ]
  },
  {
   "cell_type": "code",
   "execution_count": 22,
   "metadata": {},
   "outputs": [
    {
     "name": "stdout",
     "output_type": "stream",
     "text": [
      "Etat final :  [0. 2. 2. 2. 2. 2. 2. 0. 2. 2. 2. 0. 2. 2. 2. 2. 2. 2. 2. 2. 2. 2. 2. 2.\n",
      " 2. 0. 0. 2. 0. 2. 2. 2. 0. 0. 2. 2. 2. 0. 0. 2. 2. 2. 2. 0. 2. 2. 2. 0.\n",
      " 0. 2. 2. 2. 2. 0. 2. 2. 0. 2. 0. 2. 0. 0. 2. 2. 2. 2. 2. 2. 0. 0. 2. 2.\n",
      " 2. 2. 0. 2. 2. 2. 2. 0. 2. 2. 2. 2. 0. 2. 2. 0. 0. 2. 2. 0. 2. 0. 0. 2.\n",
      " 0. 2. 2. 2.]\n",
      "Nombre d'infectés :  71\n"
     ]
    }
   ],
   "source": [
    "N = 100\n",
    "\n",
    "verts = vertsPoiss(N)  \n",
    "# verts = vertsHT(N)\n",
    "asso = assoc(verts)\n",
    "\n",
    "infected = epi_novac(N, asso)\n",
    "\n",
    "print(\"Etat final : \", infected)\n",
    "print(\"Nombre d'infectés : \", (infected == 2).sum())"
   ]
  },
  {
   "cell_type": "markdown",
   "metadata": {},
   "source": [
    "### 2.2. Vaccination : modèle 1 ###"
   ]
  },
  {
   "cell_type": "code",
   "execution_count": 23,
   "metadata": {},
   "outputs": [],
   "source": [
    "def epi_vac1(N, asso, lbd=1, gmm=1, theta=5, rho=0.5):\n",
    "\n",
    "    neig = neigh(asso, N=N)\n",
    "\n",
    "    ### 0 <-> sain, 1 <-> infecté, 2 <-> rémis, 3 <-> vacciné\n",
    "    infected = np.zeros(N)\n",
    "    first_infected = np.random.randint(N) # premier infecté aléatoirement\n",
    "    infected[first_infected] = 1\n",
    "\n",
    "    T = 0\n",
    "    while (infected == 1).sum() > 0:\n",
    "\n",
    "        # pour chaque individu on calcule tous les temps intéressants\n",
    "        Ts = np.array([])\n",
    "\n",
    "        for i in range(len(infected)):\n",
    "\n",
    "            # s'il est infecté : calcul des temps de rémission, de détection et d'infection\n",
    "            if infected[i] == 1:\n",
    "                Trem = np.random.exponential(1/gmm) # temps de rémission\n",
    "                Ts = np.append(Ts, np.array([Trem, i])) \n",
    "\n",
    "                Tdet = np.random.exponential(1/theta) # temps de détection\n",
    "                Ts = np.append(Ts, np.array([Tdet, i-N])) # astuce pour séparer temps de détection et d'infection\n",
    "\n",
    "                for nei in neig[i]:\n",
    "                    if infected[int(nei)] == 0:\n",
    "                        Tinf = np.random.exponential(1/lbd) # temps d'infection pour chaque voisin\n",
    "                        Ts = np.append(Ts, np.array([Tinf, nei]))\n",
    "\n",
    "        times = Ts[::2]\n",
    "        pos = Ts[1::2]\n",
    "\n",
    "        Tau, pTau = np.amin(times), np.argmin(times) # on garde le temps minimum\n",
    "\n",
    "        T += Tau\n",
    "\n",
    "        chosen = int(pos[pTau])\n",
    "        if chosen < 0: # cas de détection\n",
    "            chosen += N\n",
    "            for nei in neig[chosen]:\n",
    "                if np.random.uniform(0, 1) < rho and infected[int(nei)] == 0: # vaccination avec proba rho\n",
    "                    infected[int(nei)] = 3\n",
    "\n",
    "        else:                           \n",
    "            if infected[chosen] == 0:\n",
    "                infected[chosen] = 1 # cas d'infection         \n",
    "            elif infected[chosen] == 1:\n",
    "                infected[chosen] = 2 # cas de rémission\n",
    "    \n",
    "    return(infected)"
   ]
  },
  {
   "cell_type": "code",
   "execution_count": 24,
   "metadata": {},
   "outputs": [
    {
     "name": "stdout",
     "output_type": "stream",
     "text": [
      "Etat final :  [3. 0. 0. 0. 0. 0. 2. 0. 0. 0. 0. 0. 0. 0. 0. 0. 0. 0. 0. 0. 0. 0. 0. 0.\n",
      " 0. 0. 0. 0. 0. 0. 0. 0. 0. 0. 3. 0. 0. 0. 0. 0. 0. 0. 0. 0. 0. 0. 0. 0.\n",
      " 0. 0. 0. 0. 0. 0. 0. 0. 0. 0. 0. 0. 0. 0. 3. 0. 0. 0. 0. 0. 0. 0. 0. 0.\n",
      " 0. 3. 0. 0. 0. 0. 0. 0. 0. 0. 0. 0. 0. 0. 0. 0. 0. 0. 0. 0. 0. 0. 2. 0.\n",
      " 0. 0. 0. 0.]\n",
      "Nombre d'infectés :  2\n"
     ]
    }
   ],
   "source": [
    "N = 100\n",
    "verts = vertsPoiss(N)\n",
    "# verts = vertsHT(N)\n",
    "asso = assoc(verts)\n",
    "\n",
    "infected = epi_vac1(N, asso)\n",
    "\n",
    "print(\"Etat final : \", infected)\n",
    "print(\"Nombre d'infectés : \", (infected == 2).sum())"
   ]
  },
  {
   "cell_type": "markdown",
   "metadata": {},
   "source": [
    "### 2.3. Vaccination : modèle 2"
   ]
  },
  {
   "cell_type": "code",
   "execution_count": 25,
   "metadata": {},
   "outputs": [],
   "source": [
    "def epi_vac2(N, asso, lbd=1, gmm=1, theta=5, m=5):\n",
    "\n",
    "    neig = neigh(asso, N=N)\n",
    "\n",
    "    ### 0 <-> sain, 1 <-> infecté, 2 <-> rémis, 3 <-> vacciné\n",
    "    infected = np.zeros(N)\n",
    "    first_infected = np.random.randint(N) # premier infecté aléatoirement\n",
    "    infected[first_infected] = 1\n",
    "    \n",
    "    n_infec = np.zeros(N) # mémoire du nombre d'infections par individu\n",
    "    \n",
    "    T = 0\n",
    "    while (infected == 1).sum() > 0:\n",
    "        \n",
    "        assoc_infec = np.array([]) # liste parallèle pour garder les associations\n",
    "        \n",
    "        # pour chaque individu on calcule tous les temps intéressants\n",
    "        Ts = np.array([])\n",
    "\n",
    "        for i in range(len(infected)):\n",
    "            \n",
    "            # s'il est infecté : calcul du temps de rémission, de détection et d'infection\n",
    "            if infected[i] == 1:\n",
    "                Trem = np.random.exponential(1/gmm) # temps de rémission\n",
    "                Ts = np.append(Ts, np.array([Trem, i]))\n",
    "                \n",
    "                assoc_infec = np.append(assoc_infec, [i, i]) # liste parallèle pour garder les associations\n",
    "\n",
    "                Tdet = np.random.exponential(1/theta) # temps de détection\n",
    "                Ts = np.append(Ts, np.array([Tdet, i-N]))\n",
    "                \n",
    "                assoc_infec = np.append(assoc_infec, [i, i]) # liste parallèle pour garder les associations\n",
    "                \n",
    "                for nei in neig[i]:\n",
    "                    if infected[int(nei)] == 0:\n",
    "                        Tinf = np.random.exponential(1/lbd) # temps d'infection pour chaque voisin\n",
    "                        Ts = np.append(Ts, np.array([Tinf, nei]))\n",
    "                        assoc_infec = np.append(assoc_infec, np.array([i, nei])) # liste parallèle pour garder les associations\n",
    "        \n",
    "        \n",
    "        times = Ts[::2]\n",
    "        pos = Ts[1::2]\n",
    "\n",
    "        Tau, pTau = np.amin(times), np.argmin(times) # on garde le temps minimum\n",
    "\n",
    "        T += Tau\n",
    "        \n",
    "        chosen = int(pos[pTau])\n",
    "        if chosen < 0: # cas de détection\n",
    "            chosen += N\n",
    "            for nei in neig[chosen]:\n",
    "                if infected[int(nei)] == 0: # vaccination avec proba 1\n",
    "                    infected[int(nei)] = 3 \n",
    "        \n",
    "        else:                           \n",
    "            if infected[chosen] == 0: # cas d'infection\n",
    "                infected[chosen] = 1\n",
    "                origin = assoc_infec[2*pTau]\n",
    "                n_infec[int(origin)] += 1 # on garde l'infection en mémoire\n",
    "                                       \n",
    "            elif infected[chosen] == 1: # cas de rémission\n",
    "                infected[chosen] = 2\n",
    "        \n",
    "        for i in range(len(n_infec)):\n",
    "            if n_infec[i] >= m: # si trop d'infections, on vaccine les voisins\n",
    "                for nei in neig[chosen]:\n",
    "                    if infected[int(nei)] == 0:\n",
    "                        infected[int(nei)] = 3\n",
    "    \n",
    "    return(infected)"
   ]
  },
  {
   "cell_type": "code",
   "execution_count": 26,
   "metadata": {},
   "outputs": [
    {
     "name": "stdout",
     "output_type": "stream",
     "text": [
      "Etat final :  [0. 0. 0. 0. 0. 0. 0. 0. 0. 0. 0. 0. 0. 0. 0. 0. 0. 0. 0. 0. 0. 0. 0. 0.\n",
      " 0. 0. 0. 0. 0. 0. 0. 0. 0. 0. 0. 0. 0. 0. 0. 0. 0. 0. 3. 0. 0. 0. 0. 0.\n",
      " 0. 0. 0. 0. 0. 0. 0. 0. 0. 0. 0. 0. 0. 0. 0. 0. 0. 0. 0. 0. 0. 0. 0. 3.\n",
      " 0. 0. 0. 0. 0. 0. 2. 0. 0. 0. 0. 0. 0. 0. 0. 0. 0. 0. 0. 0. 0. 0. 0. 0.\n",
      " 0. 0. 0. 0.]\n",
      "Nombre d'infectés :  1\n"
     ]
    }
   ],
   "source": [
    "N = 100\n",
    "verts = vertsPoiss(N)\n",
    "# verts = vertsHT(N)\n",
    "asso = assoc(verts)\n",
    "\n",
    "infected = epi_vac2(N, asso)\n",
    "\n",
    "print(\"Etat final : \", infected)\n",
    "print(\"Nombre d'infectés : \", (infected == 2).sum())"
   ]
  },
  {
   "cell_type": "markdown",
   "metadata": {},
   "source": [
    "# 3. Résultats #"
   ]
  },
  {
   "cell_type": "markdown",
   "metadata": {},
   "source": [
    "### 3.1. Reproduction des résultats de l'article ###"
   ]
  },
  {
   "cell_type": "code",
   "execution_count": 27,
   "metadata": {},
   "outputs": [],
   "source": [
    "N = 1000\n",
    "vertsHeavyTail = vertsHT(N)\n",
    "vertsPoisson = vertsPoiss(N)\n",
    "assoHT = assoc(vertsHeavyTail)\n",
    "assoPoiss = assoc(vertsPoisson)"
   ]
  },
  {
   "cell_type": "code",
   "execution_count": 28,
   "metadata": {},
   "outputs": [],
   "source": [
    "def simul(distrib, scenario, n_sim=5, thresh_outbreak=50, theta=5, rho=0.5, m=5):\n",
    "    sizes = np.array([])\n",
    "    for i in range(n_sim):\n",
    "        print(i)\n",
    "        \n",
    "        if distrib == \"Poi\":\n",
    "            if scenario == \"NO\":\n",
    "                infected = epi_novac(N, assoPoiss)\n",
    "            elif scenario == \"V1\":    \n",
    "                infected = epi_vac1(N, assoPoiss, theta=theta, rho=rho)\n",
    "            elif scenario == \"V2\":\n",
    "                infected = epi_vac2(N, assoPoiss, theta=theta, m=m)\n",
    "            else:\n",
    "                print('Scenario must be \"NO\" or \"V1\" or \"V2\"')\n",
    "        \n",
    "        elif distrib == \"HT\":\n",
    "            if scenario == \"NO\":\n",
    "                infected = epi_novac(N, assoHT)\n",
    "            elif scenario == \"V1\":    \n",
    "                infected = epi_vac1(N, assoHT, theta=theta, rho=rho)\n",
    "            elif scenario == \"V2\":\n",
    "                infected = epi_vac2(N, assoHT, theta=theta, m=m)\n",
    "            else:\n",
    "                print('Scenario must be \"NO\" or \"V1\" or \"V2\"')\n",
    "        \n",
    "        sizes = np.append(sizes, (infected == 2).sum())\n",
    "        major_outbreaks = np.array([size for size in sizes if size > thresh_outbreak])\n",
    "        \n",
    "    plt.hist(sizes) # histogrammes des réalisations\n",
    "    print(\"Probabilty of major outbreak : \", len(major_outbreaks)/len(sizes)) # probabilité d'un major outbreak\n",
    "    if len(major_outbreaks) > 0:    \n",
    "        print(\"Mean of major outbreaks :\", np.mean(major_outbreaks)) # moyenne des infections lors d'un major outbreak"
   ]
  },
  {
   "cell_type": "markdown",
   "metadata": {},
   "source": [
    "#### 3.1.1. Sans vaccination ####"
   ]
  },
  {
   "cell_type": "code",
   "execution_count": 29,
   "metadata": {},
   "outputs": [
    {
     "name": "stdout",
     "output_type": "stream",
     "text": [
      "0\n",
      "1\n",
      "2\n",
      "3\n",
      "4\n",
      "Probabilty of major outbreak :  0.8\n",
      "Mean of major outbreaks : 771.5\n"
     ]
    },
    {
     "data": {
      "image/png": "[encoded data removed]",
      "text/plain": [
       "<Figure size 432x288 with 1 Axes>"
      ]
     },
     "metadata": {
      "needs_background": "light"
     },
     "output_type": "display_data"
    }
   ],
   "source": [
    "simul(distrib=\"HT\", scenario=\"NO\")"
   ]
  },
  {
   "cell_type": "markdown",
   "metadata": {},
   "source": [
    "#### 3.1.2. Vaccination 1 ####"
   ]
  },
  {
   "cell_type": "code",
   "execution_count": 30,
   "metadata": {},
   "outputs": [
    {
     "name": "stdout",
     "output_type": "stream",
     "text": [
      "0\n",
      "1\n",
      "2\n",
      "3\n",
      "4\n",
      "Probabilty of major outbreak :  0.8\n",
      "Mean of major outbreaks : 454.25\n"
     ]
    },
    {
     "data": {
      "image/png": "[encoded data removed]",
      "text/plain": [
       "<Figure size 432x288 with 1 Axes>"
      ]
     },
     "metadata": {
      "needs_background": "light"
     },
     "output_type": "display_data"
    }
   ],
   "source": [
    "simul(distrib=\"HT\", scenario=\"V1\", theta=1)"
   ]
  },
  {
   "cell_type": "markdown",
   "metadata": {},
   "source": [
    "#### 3.1.3. Vaccination 2 ####"
   ]
  },
  {
   "cell_type": "code",
   "execution_count": 31,
   "metadata": {},
   "outputs": [
    {
     "name": "stdout",
     "output_type": "stream",
     "text": [
      "0\n",
      "1\n",
      "2\n",
      "3\n",
      "4\n",
      "5\n",
      "6\n",
      "7\n",
      "8\n",
      "9\n",
      "10\n",
      "11\n",
      "12\n",
      "13\n",
      "14\n",
      "15\n",
      "16\n",
      "17\n",
      "18\n",
      "19\n",
      "20\n",
      "21\n",
      "22\n",
      "23\n",
      "24\n",
      "25\n",
      "26\n",
      "27\n",
      "28\n",
      "29\n",
      "30\n",
      "31\n",
      "32\n",
      "33\n",
      "34\n",
      "35\n",
      "36\n",
      "37\n",
      "38\n",
      "39\n",
      "40\n",
      "41\n",
      "42\n",
      "43\n",
      "44\n",
      "45\n",
      "46\n",
      "47\n",
      "48\n",
      "49\n",
      "50\n",
      "51\n",
      "52\n",
      "53\n",
      "54\n",
      "55\n",
      "56\n",
      "57\n",
      "58\n",
      "59\n",
      "60\n",
      "61\n",
      "62\n",
      "63\n",
      "64\n",
      "65\n",
      "66\n",
      "67\n",
      "68\n",
      "69\n",
      "70\n",
      "71\n",
      "72\n",
      "73\n",
      "74\n",
      "75\n",
      "76\n",
      "77\n",
      "78\n",
      "79\n",
      "80\n",
      "81\n",
      "82\n",
      "83\n",
      "84\n",
      "85\n",
      "86\n",
      "87\n",
      "88\n",
      "89\n",
      "90\n",
      "91\n",
      "92\n",
      "93\n",
      "94\n",
      "95\n",
      "96\n",
      "97\n",
      "98\n",
      "99\n",
      "100\n",
      "101\n",
      "102\n",
      "103\n",
      "104\n",
      "105\n",
      "106\n",
      "107\n",
      "108\n",
      "109\n",
      "110\n",
      "111\n",
      "112\n",
      "113\n",
      "114\n",
      "115\n",
      "116\n",
      "117\n",
      "118\n",
      "119\n",
      "120\n",
      "121\n",
      "122\n",
      "123\n",
      "124\n",
      "125\n",
      "126\n",
      "127\n",
      "128\n",
      "129\n",
      "130\n",
      "131\n",
      "132\n",
      "133\n",
      "134\n",
      "135\n",
      "136\n",
      "137\n",
      "138\n",
      "139\n",
      "140\n",
      "141\n",
      "142\n",
      "143\n",
      "144\n",
      "145\n",
      "146\n",
      "147\n",
      "148\n",
      "149\n",
      "150\n",
      "151\n",
      "152\n",
      "153\n",
      "154\n",
      "155\n",
      "156\n",
      "157\n",
      "158\n",
      "159\n",
      "160\n",
      "161\n",
      "162\n",
      "163\n",
      "164\n",
      "165\n",
      "166\n",
      "167\n",
      "168\n",
      "169\n",
      "170\n",
      "171\n",
      "172\n",
      "173\n",
      "174\n",
      "175\n",
      "176\n",
      "177\n",
      "178\n",
      "179\n",
      "180\n",
      "181\n",
      "182\n",
      "183\n",
      "184\n",
      "185\n",
      "186\n",
      "187\n",
      "188\n",
      "189\n",
      "190\n",
      "191\n",
      "192\n",
      "193\n",
      "194\n",
      "195\n",
      "196\n",
      "197\n",
      "198\n",
      "199\n",
      "200\n",
      "201\n",
      "202\n",
      "203\n",
      "204\n",
      "205\n",
      "206\n",
      "207\n",
      "208\n",
      "209\n",
      "210\n",
      "211\n",
      "212\n",
      "213\n",
      "214\n",
      "215\n",
      "216\n",
      "217\n",
      "218\n",
      "219\n",
      "220\n",
      "221\n",
      "222\n",
      "223\n",
      "224\n",
      "225\n",
      "226\n",
      "227\n",
      "228\n",
      "229\n",
      "230\n",
      "231\n",
      "232\n",
      "233\n",
      "234\n",
      "235\n",
      "236\n",
      "237\n",
      "238\n",
      "239\n",
      "240\n",
      "241\n",
      "242\n",
      "243\n",
      "244\n",
      "245\n",
      "246\n",
      "247\n",
      "248\n",
      "249\n",
      "250\n",
      "251\n",
      "252\n",
      "253\n",
      "254\n",
      "255\n",
      "256\n",
      "257\n",
      "258\n",
      "259\n",
      "260\n",
      "261\n",
      "262\n",
      "263\n",
      "264\n",
      "265\n",
      "266\n",
      "267\n",
      "268\n",
      "269\n",
      "270\n",
      "271\n",
      "272\n",
      "273\n",
      "274\n",
      "275\n",
      "276\n",
      "277\n",
      "278\n",
      "279\n",
      "280\n",
      "281\n",
      "282\n",
      "283\n",
      "284\n",
      "285\n",
      "286\n",
      "287\n",
      "288\n",
      "289\n",
      "290\n",
      "291\n",
      "292\n",
      "293\n",
      "294\n",
      "295\n",
      "296\n",
      "297\n",
      "298\n",
      "299\n",
      "300\n",
      "301\n",
      "302\n",
      "303\n",
      "304\n",
      "305\n",
      "306\n",
      "307\n",
      "308\n",
      "309\n",
      "310\n",
      "311\n",
      "312\n",
      "313\n",
      "314\n",
      "315\n",
      "316\n",
      "317\n",
      "318\n",
      "319\n",
      "320\n",
      "321\n",
      "322\n",
      "323\n",
      "324\n",
      "325\n",
      "326\n",
      "327\n",
      "328\n",
      "329\n",
      "330\n",
      "331\n",
      "332\n",
      "333\n",
      "334\n",
      "335\n",
      "336\n",
      "337\n",
      "338\n",
      "339\n",
      "340\n",
      "341\n",
      "342\n",
      "343\n",
      "344\n",
      "345\n",
      "346\n",
      "347\n",
      "348\n",
      "349\n",
      "350\n",
      "351\n",
      "352\n",
      "353\n",
      "354\n",
      "355\n",
      "356\n",
      "357\n",
      "358\n",
      "359\n",
      "360\n",
      "361\n",
      "362\n",
      "363\n",
      "364\n",
      "365\n",
      "366\n",
      "367\n",
      "368\n",
      "369\n",
      "370\n",
      "371\n",
      "372\n",
      "373\n",
      "374\n",
      "375\n",
      "376\n",
      "377\n",
      "378\n",
      "379\n",
      "380\n",
      "381\n",
      "382\n",
      "383\n",
      "384\n",
      "385\n",
      "386\n",
      "387\n",
      "388\n",
      "389\n",
      "390\n",
      "391\n",
      "392\n",
      "393\n",
      "394\n",
      "395\n",
      "396\n",
      "397\n",
      "398\n",
      "399\n",
      "400\n",
      "401\n",
      "402\n",
      "403\n",
      "404\n",
      "405\n",
      "406\n",
      "407\n",
      "408\n",
      "409\n",
      "410\n",
      "411\n",
      "412\n",
      "413\n",
      "414\n",
      "415\n",
      "416\n",
      "417\n",
      "418\n",
      "419\n",
      "420\n",
      "421\n",
      "422\n",
      "423\n",
      "424\n",
      "425\n",
      "426\n",
      "427\n",
      "428\n",
      "429\n",
      "430\n",
      "431\n",
      "432\n",
      "433\n",
      "434\n",
      "435\n",
      "436\n",
      "437\n",
      "438\n",
      "439\n",
      "440\n",
      "441\n",
      "442\n",
      "443\n",
      "444\n",
      "445\n",
      "446\n",
      "447\n",
      "448\n",
      "449\n",
      "450\n",
      "451\n",
      "452\n",
      "453\n",
      "454\n",
      "455\n",
      "456\n",
      "457\n",
      "458\n",
      "459\n",
      "460\n",
      "461\n",
      "462\n",
      "463\n",
      "464\n",
      "465\n",
      "466\n",
      "467\n",
      "468\n",
      "469\n",
      "470\n",
      "471\n",
      "472\n",
      "473\n",
      "474\n",
      "475\n",
      "476\n",
      "477\n",
      "478\n",
      "479\n",
      "480\n",
      "481\n",
      "482\n",
      "483\n",
      "484\n",
      "485\n",
      "486\n",
      "487\n",
      "488\n",
      "489\n",
      "490\n",
      "491\n",
      "492\n",
      "493\n",
      "494\n",
      "495\n",
      "496\n",
      "497\n",
      "498\n",
      "499\n",
      "Probabilty of major outbreak :  0.004\n",
      "Mean of major outbreaks : 53.5\n"
     ]
    },
    {
     "data": {
      "image/png": "[encoded data removed]",
      "text/plain": [
       "<Figure size 432x288 with 1 Axes>"
      ]
     },
     "metadata": {
      "needs_background": "light"
     },
     "output_type": "display_data"
    }
   ],
   "source": [
    "simul(distrib=\"HT\", scenario=\"V2\", n_sim=500)"
   ]
  },
  {
   "cell_type": "code",
   "execution_count": null,
   "metadata": {},
   "outputs": [],
   "source": []
  },
  {
   "cell_type": "code",
   "execution_count": null,
   "metadata": {},
   "outputs": [],
   "source": []
  }
 ],
 "metadata": {
  "kernelspec": {
   "display_name": "Python 3",
   "language": "python",
   "name": "python3"
  },
  "language_info": {
   "codemirror_mode": {
    "name": "ipython",
    "version": 3
   },
   "file_extension": ".py",
   "mimetype": "text/x-python",
   "name": "python",
   "nbconvert_exporter": "python",
   "pygments_lexer": "ipython3",
   "version": "3.7.7"
  }
 },
 "nbformat": 4,
 "nbformat_minor": 4
}
